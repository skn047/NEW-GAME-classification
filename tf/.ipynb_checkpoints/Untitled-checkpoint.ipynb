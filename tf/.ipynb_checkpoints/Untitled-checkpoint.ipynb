{
 "cells": [
  {
   "cell_type": "code",
   "execution_count": 361,
   "metadata": {
    "autoscroll": false,
    "collapsed": false,
    "ein.hycell": false,
    "ein.tags": "worksheet-0",
    "slideshow": {
     "slide_type": "-"
    }
   },
   "outputs": [],
   "source": [
    "import tensorflow as tf\n",
    "from tensorflow import keras\n",
    "import numpy as np\n",
    "import sklearn\n",
    "from sklearn.model_selection import train_test_split\n",
    "import cv2\n",
    "import matplotlib.pyplot as plt"
   ]
  },
  {
   "cell_type": "code",
   "execution_count": 361,
   "metadata": {
    "autoscroll": false,
    "collapsed": false,
    "ein.hycell": false,
    "ein.tags": "worksheet-0",
    "slideshow": {
     "slide_type": "-"
    }
   },
   "outputs": [],
   "source": []
  },
  {
   "cell_type": "code",
   "execution_count": 362,
   "metadata": {
    "autoscroll": false,
    "collapsed": false,
    "ein.hycell": false,
    "ein.tags": "worksheet-0",
    "slideshow": {
     "slide_type": "-"
    }
   },
   "outputs": [
    {
     "data": {
      "image/png": "[encoded data removed]",
      "text/plain": [
       "<Figure size 432x288 with 1 Axes>"
      ]
     },
     "metadata": {},
     "output_type": "display_data"
    }
   ],
   "source": [
    "%matplotlib inline\n",
    "img = cv2.imread(\"/home/naoki/Documents/NEW-GAME-classification/aoba/107.png\", 1)\n",
    "plt.imshow(cv2.cvtColor(img, cv2.COLOR_BGR2RGB))\n",
    "plt.show()"
   ]
  },
  {
   "cell_type": "code",
   "execution_count": 363,
   "metadata": {
    "autoscroll": false,
    "collapsed": false,
    "ein.hycell": false,
    "ein.tags": "worksheet-0",
    "slideshow": {
     "slide_type": "-"
    }
   },
   "outputs": [],
   "source": [
    "class AlexNet(keras.Model):\n",
    "    def __init__(self, **kwargs):\n",
    "        super().__init__(*kwargs)\n",
    "        self.conv1 = keras.layers.Conv2D(filters=96, kernel_size=7, strides=[1,1], activation=\"relu\")\n",
    "        self.pool1 = keras.layers.MaxPooling2D(pool_size=(2,2), strides=2)\n",
    "        self.conv2 = keras.layers.Conv2D(filters=128, kernel_size=4, strides=[1,1], activation=\"relu\")\n",
    "        self.pool2 = keras.layers.MaxPooling2D(pool_size=(2,2), strides=2)\n",
    "        self.fc1 = keras.layers.Dense(150)\n",
    "        self.fc2 = keras.layers.Dense(6)\n",
    "        self.bn1 = keras.layers.BatchNormalization()\n",
    "        self.bn2 = keras.layers.BatchNormalization()\n",
    "\n",
    "    def call(self, input, training=True):\n",
    "        x = self.bn1(self.pool1(self.conv1(input)), training=training)\n",
    "        x = self.bn2(self.pool2(self.conv2(x)), training=training)\n",
    "        x = tf.reshape(x, [input.shape[0],-1])\n",
    "        x = self.fc1(x)\n",
    "        output = self.fc2(x)\n",
    "\n",
    "        return output"
   ]
  },
  {
   "cell_type": "code",
   "execution_count": 364,
   "metadata": {
    "autoscroll": false,
    "collapsed": false,
    "ein.hycell": false,
    "ein.tags": "worksheet-0",
    "slideshow": {
     "slide_type": "-"
    }
   },
   "outputs": [],
   "source": [
    "model = AlexNet()\n",
    "\n",
    "train_img_1 = cv2.imread(\"/home/naoki/Documents/NEW-GAME-classification/aoba/107.png\", 1)"
   ]
  },
  {
   "cell_type": "code",
   "execution_count": 365,
   "metadata": {
    "autoscroll": false,
    "collapsed": false,
    "ein.hycell": false,
    "ein.tags": "worksheet-0",
    "slideshow": {
     "slide_type": "-"
    }
   },
   "outputs": [],
   "source": [
    "optimizer = tf.keras.optimizers.Adam()\n",
    "\n",
    "@tf.function\n",
    "def train_step(images, labels):\n",
    "    with tf.GradientTape() as tape:\n",
    "        predictions = model(images)\n",
    "        loss = tf.nn.softmax_cross_entropy_with_logits(logits=predictions, labels=labels)\n",
    "        loss_display = tf.reduce_sum(loss)\n",
    "        tf.print(\"loss : \", loss_display)\n",
    "\n",
    "    gradients = tape.gradient(loss, model.trainable_variables)\n",
    "    optimizer.apply_gradients(zip(gradients, model.trainable_variables))\n",
    "\n",
    "def test_step(images, labels):\n",
    "    predictions = model(images, training=False)\n",
    "    predictions = np.argmax(predictions.numpy(), axis=1)\n",
    "    labels = np.argmax(labels.numpy(), axis=1)\n",
    "    accuracy = sum([1 if x==y else 0 for x, y in zip(predictions, labels)]) / predictions.shape[0]\n",
    "\n",
    "    return accuracy"
   ]
  },
  {
   "cell_type": "code",
   "execution_count": 366,
   "metadata": {
    "autoscroll": false,
    "collapsed": false,
    "ein.hycell": false,
    "ein.tags": "worksheet-0",
    "slideshow": {
     "slide_type": "-"
    }
   },
   "outputs": [
    {
     "name": "stdout",
     "output_type": "stream",
     "text": [
      "0.5\n"
     ]
    }
   ],
   "source": [
    "ex = [[0, 100, 1, 1], [100, 0, 0, 1]]\n",
    "label = [[0, 0, 100, 1], [100, 0, 0, 1]]\n",
    "max_ex = np.argmax(np.array(ex), axis=1)\n",
    "max_label = np.argmax(np.array(label), axis=1)\n",
    "accuracy = sum([1 if x==y else 0 for x, y in zip(max_ex, max_label)]) / len(ex)\n",
    "print(accuracy)"
   ]
  },
  {
   "cell_type": "code",
   "execution_count": 367,
   "metadata": {
    "autoscroll": false,
    "collapsed": false,
    "ein.hycell": false,
    "ein.tags": "worksheet-0",
    "slideshow": {
     "slide_type": "-"
    }
   },
   "outputs": [],
   "source": [
    "x_train = cv2.imread(\"/home/naoki/Documents/NEW-GAME-classification/aoba/107.png\", 1)\n",
    "y_train = np.array([1,0,0,0,0,0])\n",
    "\n",
    "x_train = np.expand_dims(x_train, 0).astype(\"float32\")\n",
    "y_train = np.expand_dims(y_train, 0).astype(\"float32\")"
   ]
  },
  {
   "cell_type": "code",
   "execution_count": 368,
   "metadata": {
    "autoscroll": false,
    "collapsed": false,
    "ein.hycell": false,
    "ein.tags": "worksheet-0",
    "slideshow": {
     "slide_type": "-"
    }
   },
   "outputs": [
    {
     "name": "stdout",
     "output_type": "stream",
     "text": [
      "(1, 64, 64, 3)\n",
      "(1, 6)\n"
     ]
    }
   ],
   "source": [
    "print(x_train.shape)\n",
    "print(y_train.shape)"
   ]
  },
  {
   "cell_type": "code",
   "execution_count": 369,
   "metadata": {
    "autoscroll": false,
    "collapsed": false,
    "ein.hycell": false,
    "ein.tags": "worksheet-0",
    "slideshow": {
     "slide_type": "-"
    }
   },
   "outputs": [],
   "source": [
    "train_ds = tf.data.Dataset.from_tensor_slices((x_train, y_train)).batch(1)"
   ]
  },
  {
   "cell_type": "code",
   "execution_count": 370,
   "metadata": {
    "autoscroll": false,
    "collapsed": false,
    "ein.hycell": false,
    "ein.tags": "worksheet-0",
    "slideshow": {
     "slide_type": "-"
    }
   },
   "outputs": [],
   "source": [
    "# EPOCHS = 10\n",
    "\n",
    "# for epoch in range(EPOCHS):\n",
    "#     for image, labels in train_ds:\n",
    "#         train_step(image, labels)"
   ]
  },
  {
   "cell_type": "code",
   "execution_count": 371,
   "metadata": {
    "autoscroll": false,
    "collapsed": false,
    "ein.hycell": false,
    "ein.tags": "worksheet-0",
    "slideshow": {
     "slide_type": "-"
    }
   },
   "outputs": [
    {
     "name": "stdout",
     "output_type": "stream",
     "text": [
      "['2.png', '0']\n",
      "(500, 2)\n",
      "0\n"
     ]
    }
   ],
   "source": [
    "import csv\n",
    "import pprint\n",
    "\n",
    "with open(\"../newgame.csv\") as f:\n",
    "    reader = csv.reader(f)\n",
    "    l = [row for row in reader]\n",
    "\n",
    "print(l[1])\n",
    "l_np = np.array(l)\n",
    "print(l_np.shape)\n",
    "l_dic = {}\n",
    "\n",
    "l_np[0]\n",
    "for l_el in l_np[1:]:\n",
    "    l_dic[l_el[0]] = l_el[1]\n",
    "\n",
    "print(l_dic[\"2.png\"])"
   ]
  },
  {
   "cell_type": "code",
   "execution_count": 372,
   "metadata": {
    "autoscroll": false,
    "collapsed": false,
    "ein.hycell": false,
    "ein.tags": "worksheet-0",
    "slideshow": {
     "slide_type": "-"
    }
   },
   "outputs": [
    {
     "name": "stdout",
     "output_type": "stream",
     "text": [
      "['3668.png', '2019.png', '3292.png']\n"
     ]
    }
   ],
   "source": [
    "import os\n",
    "img_path = \"../data/\"\n",
    "files = os.listdir(img_path)\n",
    "files_file = [f for f in files if os.path.isfile(os.path.join(img_path, f))]\n",
    "print(files_file[0:3])"
   ]
  },
  {
   "cell_type": "code",
   "execution_count": 373,
   "metadata": {
    "autoscroll": false,
    "collapsed": false,
    "ein.hycell": false,
    "ein.tags": "worksheet-0",
    "slideshow": {
     "slide_type": "-"
    }
   },
   "outputs": [
    {
     "name": "stdout",
     "output_type": "stream",
     "text": [
      "['3192.png', '2340.png', '1003.png']\n"
     ]
    }
   ],
   "source": [
    "import random\n",
    "random.shuffle(files_file)\n",
    "print(files_file[0:3])"
   ]
  },
  {
   "cell_type": "code",
   "execution_count": 374,
   "metadata": {
    "autoscroll": false,
    "collapsed": false,
    "ein.hycell": false,
    "ein.tags": "worksheet-0",
    "slideshow": {
     "slide_type": "-"
    }
   },
   "outputs": [
    {
     "name": "stdout",
     "output_type": "stream",
     "text": [
      "['../data/3192.png', '../data/2340.png', '../data/1003.png']\n"
     ]
    }
   ],
   "source": [
    "img_ex = cv2.imread(img_path+files_file[0], 1)\n",
    "files_file_custom = [img_path+files_file[i] for i in range(len(files_file))]\n",
    "print(files_file_custom[0:3])"
   ]
  },
  {
   "cell_type": "code",
   "execution_count": 375,
   "metadata": {
    "autoscroll": false,
    "collapsed": false,
    "ein.hycell": false,
    "ein.tags": "worksheet-0",
    "slideshow": {
     "slide_type": "-"
    }
   },
   "outputs": [
    {
     "data": {
      "text/plain": [
       "[0, 0, 3]"
      ]
     },
     "execution_count": 375,
     "metadata": {},
     "output_type": "execute_result"
    }
   ],
   "source": [
    "all_labels = [int(l_dic[name]) for name in files_file]\n",
    "all_labels[0:3]"
   ]
  },
  {
   "cell_type": "code",
   "execution_count": 376,
   "metadata": {
    "autoscroll": false,
    "collapsed": false,
    "ein.hycell": false,
    "ein.tags": "worksheet-0",
    "slideshow": {
     "slide_type": "-"
    }
   },
   "outputs": [],
   "source": [
    "def load_image(path):\n",
    "    image = tf.io.read_file(path)\n",
    "    image = tf.io.decode_png(image, channels=3)\n",
    "    image = tf.cast(image, tf.float32)\n",
    "    return image\n",
    "\n",
    "def load_label(label):\n",
    "    indices = [0, 1, 2, 3, 4, 5]\n",
    "    depth = len(indices)\n",
    "    return tf.one_hot(indices, depth)[label]"
   ]
  },
  {
   "cell_type": "code",
   "execution_count": 388,
   "metadata": {
    "autoscroll": false,
    "collapsed": false,
    "ein.hycell": false,
    "ein.tags": "worksheet-0",
    "slideshow": {
     "slide_type": "-"
    }
   },
   "outputs": [
    {
     "name": "stdout",
     "output_type": "stream",
     "text": [
      "(499,)\n"
     ]
    }
   ],
   "source": [
    "print(np.array(all_labels).shape)"
   ]
  },
  {
   "cell_type": "code",
   "execution_count": 377,
   "metadata": {
    "autoscroll": false,
    "collapsed": false,
    "ein.hycell": false,
    "ein.tags": "worksheet-0",
    "slideshow": {
     "slide_type": "-"
    }
   },
   "outputs": [],
   "source": [
    "split_idx = int(0.7*image_count)\n",
    "\n",
    "train_image_path_ds = tf.data.Dataset.from_tensor_slices(files_file_custom[0:split_idx])\n",
    "train_image_ds = train_image_path_ds.map(load_image, num_parallel_calls=tf.data.experimental.AUTOTUNE)\n",
    "\n",
    "train_labels_ds = tf.data.Dataset.from_tensor_slices(all_labels[0:split_idx])\n",
    "train_labels_ds = train_labels_ds.map(load_label, num_parallel_calls=tf.data.experimental.AUTOTUNE)\n",
    "\n",
    "test_image_path_ds = tf.data.Dataset.from_tensor_slices(files_file_custom[split_idx:])\n",
    "test_image_ds = test_image_path_ds.map(load_image, num_parallel_calls=tf.data.experimental.AUTOTUNE)\n",
    "\n",
    "test_labels_ds = tf.data.Dataset.from_tensor_slices(all_labels[split_idx:])\n",
    "test_labels_ds = test_labels_ds.map(load_label, num_parallel_calls=tf.data.experimental.AUTOTUNE)"
   ]
  },
  {
   "cell_type": "code",
   "execution_count": 378,
   "metadata": {
    "autoscroll": false,
    "collapsed": false,
    "ein.hycell": false,
    "ein.tags": "worksheet-0",
    "slideshow": {
     "slide_type": "-"
    }
   },
   "outputs": [
    {
     "name": "stdout",
     "output_type": "stream",
     "text": [
      "349\n"
     ]
    }
   ],
   "source": [
    "print(split_idx)"
   ]
  },
  {
   "cell_type": "code",
   "execution_count": 379,
   "metadata": {
    "autoscroll": false,
    "collapsed": false,
    "ein.hycell": false,
    "ein.tags": "worksheet-0",
    "slideshow": {
     "slide_type": "-"
    }
   },
   "outputs": [
    {
     "ename": "SyntaxError",
     "evalue": "unexpected EOF while parsing (<ipython-input-379-c7389936075a>, line 2)",
     "output_type": "error",
     "traceback": [
      "\u001b[0;36m  File \u001b[0;32m\"<ipython-input-379-c7389936075a>\"\u001b[0;36m, line \u001b[0;32m2\u001b[0m\n\u001b[0;31m    for i, label in enumerate(labels_ds.batch(3)):\u001b[0m\n\u001b[0m                                                  ^\u001b[0m\n\u001b[0;31mSyntaxError\u001b[0m\u001b[0;31m:\u001b[0m unexpected EOF while parsing\n"
     ]
    }
   ],
   "source": [
    "for t in range(1):\n",
    "    for i, label in enumerate(labels_ds.batch(3)):"
   ]
  },
  {
   "cell_type": "code",
   "execution_count": 380,
   "metadata": {
    "autoscroll": false,
    "collapsed": false,
    "ein.hycell": false,
    "ein.tags": "worksheet-0",
    "slideshow": {
     "slide_type": "-"
    }
   },
   "outputs": [
    {
     "name": "stdout",
     "output_type": "stream",
     "text": [
      "(64, 64, 3)\n"
     ]
    }
   ],
   "source": [
    "for i, image in enumerate(image_ds.take(1)):\n",
    "    print(image.shape)"
   ]
  },
  {
   "cell_type": "code",
   "execution_count": 381,
   "metadata": {
    "autoscroll": false,
    "collapsed": false,
    "ein.hycell": false,
    "ein.tags": "worksheet-0",
    "slideshow": {
     "slide_type": "-"
    }
   },
   "outputs": [
    {
     "name": "stdout",
     "output_type": "stream",
     "text": [
      "499\n",
      "499\n"
     ]
    }
   ],
   "source": [
    "print(len(files_file))\n",
    "print(len(files_file_custom))"
   ]
  },
  {
   "cell_type": "code",
   "execution_count": 382,
   "metadata": {
    "autoscroll": false,
    "collapsed": false,
    "ein.hycell": false,
    "ein.tags": "worksheet-0",
    "slideshow": {
     "slide_type": "-"
    }
   },
   "outputs": [],
   "source": [
    "train_image_label_ds = tf.data.Dataset.zip((train_image_ds, train_labels_ds))\n",
    "test_image_label_ds = tf.data.Dataset.zip((test_image_ds, test_labels_ds))\n",
    "\n",
    "# BATCH_SIZE = 32\n",
    "# ds = image_label_ds.apply(tf.data.experimental.shuffle_and_repeat(buffer_size=image_count))\n",
    "# ds = ds.batch(BATCH_SIZE)\n",
    "# ds = ds.prefetch(buffer_size=tf.data.experimental.AUTOTUNE)\n",
    "# ds"
   ]
  },
  {
   "cell_type": "code",
   "execution_count": 383,
   "metadata": {
    "autoscroll": false,
    "collapsed": false,
    "ein.hycell": false,
    "ein.tags": "worksheet-0",
    "slideshow": {
     "slide_type": "-"
    }
   },
   "outputs": [
    {
     "name": "stdout",
     "output_type": "stream",
     "text": [
      "tf.Tensor([0 1], shape=(2,), dtype=int32)\n",
      "tf.Tensor([2 3], shape=(2,), dtype=int32)\n",
      "tf.Tensor([6 7], shape=(2,), dtype=int32)\n",
      "tf.Tensor([4 5], shape=(2,), dtype=int32)\n",
      "tf.Tensor([8 9], shape=(2,), dtype=int32)\n"
     ]
    },
    {
     "name": "stdout",
     "output_type": "stream",
     "text": [
      "tf.Tensor([2 3], shape=(2,), dtype=int32)\n",
      "tf.Tensor([0 1], shape=(2,), dtype=int32)\n",
      "tf.Tensor([6 7], shape=(2,), dtype=int32)\n",
      "tf.Tensor([8 9], shape=(2,), dtype=int32)\n",
      "tf.Tensor([4 5], shape=(2,), dtype=int32)\n",
      "tf.Tensor([0 1], shape=(2,), dtype=int32)\n",
      "tf.Tensor([2 3], shape=(2,), dtype=int32)\n",
      "tf.Tensor([4 5], shape=(2,), dtype=int32)\n",
      "tf.Tensor([6 7], shape=(2,), dtype=int32)\n",
      "tf.Tensor([8 9], shape=(2,), dtype=int32)\n"
     ]
    }
   ],
   "source": [
    "dataset = tf.data.Dataset.from_tensor_slices(tf.range(10))\n",
    "\n",
    "for i in range(3):\n",
    "    for item in dataset.batch(2).shuffle(2):\n",
    "        print(item)"
   ]
  },
  {
   "cell_type": "code",
   "execution_count": 383,
   "metadata": {
    "autoscroll": false,
    "collapsed": false,
    "ein.hycell": false,
    "ein.tags": "worksheet-0",
    "slideshow": {
     "slide_type": "-"
    }
   },
   "outputs": [],
   "source": []
  },
  {
   "cell_type": "code",
   "execution_count": 384,
   "metadata": {
    "autoscroll": false,
    "collapsed": false,
    "ein.hycell": false,
    "ein.tags": "worksheet-0",
    "slideshow": {
     "slide_type": "-"
    }
   },
   "outputs": [
    {
     "name": "stdout",
     "output_type": "stream",
     "text": [
      "0 / 1 epoch ...\n"
     ]
    },
    {
     "name": "stdout",
     "output_type": "stream",
     "text": [
      "loss :  88.6862335\n"
     ]
    },
    {
     "name": "stdout",
     "output_type": "stream",
     "text": [
      "loss :  890.490906\n"
     ]
    },
    {
     "name": "stdout",
     "output_type": "stream",
     "text": [
      "loss :  206.878372\n"
     ]
    },
    {
     "name": "stdout",
     "output_type": "stream",
     "text": [
      "loss :  255.039505\n"
     ]
    },
    {
     "name": "stdout",
     "output_type": "stream",
     "text": [
      "loss :  70.570015\n"
     ]
    },
    {
     "name": "stdout",
     "output_type": "stream",
     "text": [
      "loss :  181.163467\n"
     ]
    },
    {
     "name": "stdout",
     "output_type": "stream",
     "text": [
      "loss :  330.138641\n"
     ]
    },
    {
     "name": "stdout",
     "output_type": "stream",
     "text": [
      "loss :  152.461029\n"
     ]
    },
    {
     "name": "stdout",
     "output_type": "stream",
     "text": [
      "loss :  449.378174\n"
     ]
    },
    {
     "name": "stdout",
     "output_type": "stream",
     "text": [
      "loss :  1.5877248\n"
     ]
    },
    {
     "name": "stdout",
     "output_type": "stream",
     "text": [
      "loss :  127.756897\n"
     ]
    },
    {
     "name": "stdout",
     "output_type": "stream",
     "text": [
      "accuracy :  0.17954545454545454\n"
     ]
    }
   ],
   "source": [
    "import os\n",
    "EPOCHS = 1\n",
    "BATCH_SIZE = 32\n",
    "IMAGE_SIZE = 499\n",
    "\n",
    "for epoch in range(EPOCHS):\n",
    "    print(\"{} / {} epoch ...\".format(epoch, EPOCHS))\n",
    "    checkpoint_dir = \"/home/naoki/Documents/NEW-GAME-classification/tf/path\"\n",
    "    if not os.path.exists(checkpoint_dir):\n",
    "        os.makedirs(checkpoint_dir)\n",
    "\n",
    "    if epoch % 10 == 0:\n",
    "        checkpoint_prefix = os.path.join(checkpoint_dir, \"{}.ckpt\".format(epoch))\n",
    "        root = tf.train.Checkpoint(optimizer=optimizer)\n",
    "        root.save(checkpoint_prefix)\n",
    "\n",
    "    for images, labels in train_image_label_ds.batch(BATCH_SIZE).shuffle(BATCH_SIZE):\n",
    "        train_step(images, labels)\n",
    "\n",
    "    accuracy_list = []\n",
    "    for images, labels in test_image_label_ds.batch(BATCH_SIZE).shuffle(BATCH_SIZE):\n",
    "        accuracy_tmp = test_step(images, labels)\n",
    "        accuracy_list.append(accuracy_tmp)\n",
    "\n",
    "    accuracy = sum(accuracy_list) / len(accuracy_list)\n",
    "    tf.print(\"accuracy : \", accuracy)"
   ]
  },
  {
   "cell_type": "code",
   "execution_count": 385,
   "metadata": {
    "autoscroll": false,
    "collapsed": false,
    "ein.hycell": false,
    "ein.tags": "worksheet-0",
    "slideshow": {
     "slide_type": "-"
    }
   },
   "outputs": [
    {
     "name": "stdout",
     "output_type": "stream",
     "text": [
      "test : 6 / 1 \n"
     ]
    }
   ],
   "source": [
    "month = 6\n",
    "day = 1\n",
    "print(\"test : {} / {} \".format(month ,day))"
   ]
  },
  {
   "cell_type": "code",
   "execution_count": 386,
   "metadata": {
    "autoscroll": false,
    "collapsed": false,
    "ein.hycell": false,
    "ein.tags": "worksheet-0",
    "slideshow": {
     "slide_type": "-"
    }
   },
   "outputs": [
    {
     "name": "stdout",
     "output_type": "stream",
     "text": [
      "[4.0093355879411804e+134, 3.012219503095499e-88, 1.040474856689018e-14, 4.084061087547879e-06, 3.564550984602742e-15, 4.8107280806429095e-37]\n",
      "4.0093355879411804e+134\n",
      "[1.00000000e+000 7.51301416e-223 2.59513037e-149 1.01863788e-140\n",
      " 8.89062765e-150 1.19988162e-171]\n"
     ]
    }
   ],
   "source": [
    "def softmax_own(input):\n",
    "    numerator = [np.e**x for x in input]\n",
    "    denominator = sum(numerator)\n",
    "\n",
    "    print(numerator)\n",
    "    print(denominator)\n",
    "    return np.array(numerator) / denominator\n",
    "\n",
    "a = softmax_own([309.935028, -201.524811, -32.1965141, -12.4084187, -33.2677383, -83.6248])\n",
    "print(a)"
   ]
  }
 ],
 "metadata": {
  "kernelspec": {
   "argv": [
    "/home/naoki/anaconda3/envs/tensorflow-new/bin/python3",
    "-m",
    "ipykernel_launcher",
    "-f",
    "{connection_file}"
   ],
   "display_name": "Tensorflow-new",
   "env": null,
   "interrupt_mode": "signal",
   "language": "python",
   "metadata": null,
   "name": "tensorflow-new"
  },
  "language_info": {
   "codemirror_mode": {
    "name": "ipython",
    "version": 3
   },
   "file_extension": ".py",
   "mimetype": "text/x-python",
   "name": "python",
   "nbconvert_exporter": "python",
   "pygments_lexer": "ipython3",
   "version": "3.7.4"
  },
  "name": "Untitled.ipynb",
  "varInspector": {
   "cols": {
    "lenName": 16,
    "lenType": 16,
    "lenVar": 40
   },
   "kernels_config": {
    "python": {
     "delete_cmd_postfix": "",
     "delete_cmd_prefix": "del ",
     "library": "var_list.py",
     "varRefreshCmd": "print(var_dic_list())"
    },
    "r": {
     "delete_cmd_postfix": ") ",
     "delete_cmd_prefix": "rm(",
     "library": "var_list.r",
     "varRefreshCmd": "cat(var_dic_list()) "
    }
   },
   "types_to_exclude": [
    "module",
    "function",
    "builtin_function_or_method",
    "instance",
    "_Feature"
   ],
   "window_display": false
  }
 },
 "nbformat": 4,
 "nbformat_minor": 4
}
